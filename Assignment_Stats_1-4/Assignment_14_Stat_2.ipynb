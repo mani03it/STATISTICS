{
 "cells": [
  {
   "cell_type": "markdown",
   "metadata": {},
   "source": [
    "**Problem Statement 1:**\n",
    "A test is conducted which is consisting of 20 MCQs (multiple choices questions) with every MCQ having its four options out of which only one is correct. Determine the probability that a person undertaking that test has answered\n",
    "exactly 5 questions wrong."
   ]
  },
  {
   "cell_type": "code",
   "execution_count": 12,
   "metadata": {},
   "outputs": [
    {
     "name": "stdout",
     "output_type": "stream",
     "text": [
      "Probability that a person undertaking the test has answered exactly 5 question wrong is: 3.4264958230778435e-06\n"
     ]
    }
   ],
   "source": [
    "# n=20, P(Correct)=0.25, P(Wrong)= 0.75, P(X=5) = ? \n",
    "\n",
    "import scipy.stats\n",
    "n,p = 20, 0.75\n",
    "pmf = scipy.stats.binom.pmf(5, n, p)\n",
    "print(\"Probability that a person undertaking the test has answered exactly 5 question wrong is: \"+str(pmf))"
   ]
  },
  {
   "cell_type": "markdown",
   "metadata": {},
   "source": [
    "**Problem Statement 2:**\n",
    "A die marked A to E is rolled 50 times. Find the probability of getting a “D” exactly 5 times."
   ]
  },
  {
   "cell_type": "code",
   "execution_count": 13,
   "metadata": {},
   "outputs": [
    {
     "name": "stdout",
     "output_type": "stream",
     "text": [
      "Probability of getting a D exactly 5 times is: 0.029531204310523224\n"
     ]
    }
   ],
   "source": [
    "# n= 50, p(success) = 0.2, P(X=5)\n",
    "\n",
    "n,p = 50, 0.2\n",
    "D = scipy.stats.binom.pmf(5, n, p)\n",
    "print(\"Probability of getting a D exactly 5 times is: \"+str(D))"
   ]
  },
  {
   "cell_type": "markdown",
   "metadata": {},
   "source": [
    "**Problem Statement 3:**\n",
    "Two balls are drawn at random in succession without replacement from an urn containing 4 red balls and 6 black balls. Find the probabilities of all the possible outcomes."
   ]
  },
  {
   "cell_type": "code",
   "execution_count": 14,
   "metadata": {},
   "outputs": [],
   "source": [
    "#Total number of balls = 4R+6B = 10 balls\n",
    "#Probability of getting one red and one black ball = P(RB) = 4/10*6/9 = 24/90 \n",
    "#Probability of getting 2 Red balls subsequently   = P(RR) = 4/10*3/9 = 12/90\n",
    "#Probability of getting 2 black balls subsequently = P(BB) = 6/10*5/9 = 30/90\n",
    "#Probability of getting one black and one red ball = P(BR) = 6/10*4/9 = 24/90"
   ]
  }
 ],
 "metadata": {
  "kernelspec": {
   "display_name": "Python 3",
   "language": "python",
   "name": "python3"
  },
  "language_info": {
   "codemirror_mode": {
    "name": "ipython",
    "version": 3
   },
   "file_extension": ".py",
   "mimetype": "text/x-python",
   "name": "python",
   "nbconvert_exporter": "python",
   "pygments_lexer": "ipython3",
   "version": "3.7.1"
  }
 },
 "nbformat": 4,
 "nbformat_minor": 2
}
