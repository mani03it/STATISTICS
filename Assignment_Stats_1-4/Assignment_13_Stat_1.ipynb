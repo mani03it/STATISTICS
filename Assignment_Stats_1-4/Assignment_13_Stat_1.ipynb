{
 "cells": [
  {
   "cell_type": "markdown",
   "metadata": {},
   "source": [
    "**Problem Statement 1:**\n",
    "\n",
    "You survey households in your area to find the average rent they are paying. Find the standard deviation from the following data:\n",
    "\n",
    "$1550, $1700, $900, $850, $1000, $950"
   ]
  },
  {
   "cell_type": "code",
   "execution_count": 8,
   "metadata": {},
   "outputs": [
    {
     "name": "stdout",
     "output_type": "stream",
     "text": [
      "Standard deviation: 367.9900360969936\n",
      "Variance: 135416.66666666666\n",
      "Mean: 1158.3333333333333\n"
     ]
    }
   ],
   "source": [
    "import statistics as stat\n",
    "\n",
    "array = [1550,1700, 900,850, 1000,950]\n",
    "print(str(\"Standard deviation: \"+str(stat.stdev(array))))\n",
    "print(str(\"Variance: \"+str(stat.variance(array))))\n",
    "print(str(\"Mean: \"+str(stat.mean(array))))"
   ]
  },
  {
   "cell_type": "markdown",
   "metadata": {},
   "source": [
    "**Problem Statement 2:**\n",
    "\n",
    "Find the variance for the following set of data representing trees in California (heights in feet):\n",
    "\n",
    "3,21,98,203,17,9"
   ]
  },
  {
   "cell_type": "code",
   "execution_count": 9,
   "metadata": {},
   "outputs": [
    {
     "name": "stdout",
     "output_type": "stream",
     "text": [
      "Variance: 6219.9\n",
      "Standard deviation: 78.86634263106157\n",
      "Mean: 58.5\n"
     ]
    }
   ],
   "source": [
    "array = [3,21,98,203,17,9]\n",
    "print(str(\"Variance: \"+str(stat.variance(array))))\n",
    "print(str(\"Standard deviation: \"+str(stat.stdev(array))))\n",
    "print(str(\"Mean: \"+str(stat.mean(array))))"
   ]
  },
  {
   "cell_type": "markdown",
   "metadata": {},
   "source": [
    "**Problem Statement 3:**\n",
    "\n",
    "\n",
    "In a class on 100 students, 80 students passed in all subjects, 10 failed in one subject, 7 failed in two subjects and 3 failed in three subjects. Find the probability distribution of the variable for number of subjects a student from the given class has failed in."
   ]
  },
  {
   "cell_type": "code",
   "execution_count": 4,
   "metadata": {},
   "outputs": [
    {
     "data": {
      "text/plain": [
       "<BarContainer object of 4 artists>"
      ]
     },
     "execution_count": 4,
     "metadata": {},
     "output_type": "execute_result"
    },
    {
     "data": {
      "image/png": "[encoded data removed]",
      "text/plain": [
       "<Figure size 432x288 with 1 Axes>"
      ]
     },
     "metadata": {
      "needs_background": "light"
     },
     "output_type": "display_data"
    }
   ],
   "source": [
    "import scipy.stats\n",
    "import matplotlib.pyplot as plt\n",
    "#probability of number of students failed in 0 subject = 80/100 = 0.8\n",
    "#probability of number of students failed in 1 subject = 10/100 = 0.1\n",
    "#probability of number of students failed in 2 subject = 7/100 = 0.07\n",
    "#probability of number of students failed in 3 subject = 3/100 = 0.03\n",
    "\n",
    "#probability distribution is initialized as an array\n",
    "arr = [0.8,0.1,0.07,0.03]\n",
    "\n",
    "# x-axis drawn for the number of subjects that students have failed in\n",
    "x = scipy.linspace(0,3,4)\n",
    "\n",
    "#bar plot for displaying the probability distribution\n",
    "plt.bar(x,arr)\n"
   ]
  }
 ],
 "metadata": {
  "kernelspec": {
   "display_name": "Python 3",
   "language": "python",
   "name": "python3"
  },
  "language_info": {
   "codemirror_mode": {
    "name": "ipython",
    "version": 3
   },
   "file_extension": ".py",
   "mimetype": "text/x-python",
   "name": "python",
   "nbconvert_exporter": "python",
   "pygments_lexer": "ipython3",
   "version": "3.7.1"
  }
 },
 "nbformat": 4,
 "nbformat_minor": 2
}
