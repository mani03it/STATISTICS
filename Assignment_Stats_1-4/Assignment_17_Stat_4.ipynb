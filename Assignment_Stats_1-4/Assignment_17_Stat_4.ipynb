{
 "cells": [
  {
   "cell_type": "markdown",
   "metadata": {},
   "source": [
    "**Problem Statement 1:**\n",
    "\n",
    "Is gender independent of education level? A random sample of 395 people were surveyed and each person was asked to report the highest education level they obtained. The data that resulted from the survey is summarized in the following table:\n",
    "\n",
    "            High School Bachelors Masters Ph.d. Total\n",
    "\n",
    "        Female    60        54        46     41    201\n",
    "\n",
    "        Male      40        44        53     57    194\n",
    "\n",
    "        Total    100        98        99     98     395\n",
    "\n",
    "Question: Are gender and education level dependent at 5% level of significance? In other words, given the data collected above, is there a relationship between the gender of an individual and the level of education that they have obtained?"
   ]
  },
  {
   "cell_type": "code",
   "execution_count": 33,
   "metadata": {},
   "outputs": [
    {
     "name": "stdout",
     "output_type": "stream",
     "text": [
      "The table of observed frequency is: \n",
      "    0   1   2   3\n",
      "0  60  54  46  41\n",
      "1  40  44  53  57\n",
      "\n",
      "The table of expected counts is: \n",
      "[[50.88607595 49.86835443 50.37721519 49.86835443]\n",
      " [49.11392405 48.13164557 48.62278481 48.13164557]]\n",
      "\n",
      "Chi-square value is : 8.006066246262538\n",
      "Critical value of chi-square with 3 degree of freedom is 7.814727903251179\n",
      "\n",
      "Reject the null hypothesis and concluding that gender and education level are dependent at 5% level of significance\n"
     ]
    }
   ],
   "source": [
    "import scipy.stats\n",
    "import pandas as pd\n",
    "from scipy.stats import chi2_contingency\n",
    "#1.\n",
    "#H0:The two categorical variables are independent \n",
    "#H1:The two categorical variables are dependent \n",
    "observed_table = pd.DataFrame([[60,54,46,41],[40,44,53,57]])\n",
    "print(\"The table of observed frequency is: \")\n",
    "print(observed_table)\n",
    "#2.\n",
    "#Chi-square test statistic = Sigma(O-E)^2/E\n",
    "#O-observed frequency,E is the expected frequency under the null hypothesis and computed by:\n",
    "#E=(row_count*column_count)/sample size e.g., 100*201/395 = 50.88607595\n",
    "chi2, p, dof, expected = chi2_contingency(observed_table)\n",
    "print(\"\\nThe table of expected counts is: \")\n",
    "print(expected)\n",
    "print(\"\\nChi-square value is : \"+str(chi2))\n",
    "#Degrees of freedom (dof)= (r-1)*(c-1) =(2-1)*(4-1) = 3\n",
    "cv = scipy.stats.chi2.ppf(0.95,dof)\n",
    "print(\"Critical value of chi-square with 3 degree of freedom is \"+ str(cv)+\"\\n\")\n",
    "if(cv > chi2):\n",
    "    print(\"Accept the null hypothesis and concluding that gender and education level are independent at 5% level of significance\")\n",
    "else: \n",
    "    print(\"Reject the null hypothesis and concluding that gender and education level are dependent at 5% level of significance\")\n"
   ]
  },
  {
   "cell_type": "markdown",
   "metadata": {},
   "source": [
    "**Problem Statement 2:**\n",
    "\n",
    "Using the following data, perform a oneway analysis of variance using α=.05. Write up the results in APA format.\n",
    "\n",
    "\n",
    "[Group1: 51, 45, 33, 45, 67]\n",
    "\n",
    "[Group2: 23, 43, 23, 43, 45]\n",
    "\n",
    "[Group3: 56, 76, 74, 87, 56]"
   ]
  },
  {
   "cell_type": "code",
   "execution_count": 42,
   "metadata": {},
   "outputs": [
    {
     "name": "stdout",
     "output_type": "stream",
     "text": [
      "9.747205503009463 0.0030597541434430556\n",
      " \n",
      "APA writeup\n",
      "F(2, 12)= 9.747205503009463\n",
      "p<0.05\n"
     ]
    },
    {
     "data": {
      "text/html": [
       "<div>\n",
       "<style scoped>\n",
       "    .dataframe tbody tr th:only-of-type {\n",
       "        vertical-align: middle;\n",
       "    }\n",
       "\n",
       "    .dataframe tbody tr th {\n",
       "        vertical-align: top;\n",
       "    }\n",
       "\n",
       "    .dataframe thead th {\n",
       "        text-align: right;\n",
       "    }\n",
       "</style>\n",
       "<table border=\"1\" class=\"dataframe\">\n",
       "  <thead>\n",
       "    <tr style=\"text-align: right;\">\n",
       "      <th></th>\n",
       "      <th>sum_sq</th>\n",
       "      <th>df</th>\n",
       "      <th>F</th>\n",
       "      <th>PR(&gt;F)</th>\n",
       "    </tr>\n",
       "  </thead>\n",
       "  <tbody>\n",
       "    <tr>\n",
       "      <th>C(treatments)</th>\n",
       "      <td>3022.933333</td>\n",
       "      <td>2.0</td>\n",
       "      <td>9.747206</td>\n",
       "      <td>0.00306</td>\n",
       "    </tr>\n",
       "    <tr>\n",
       "      <th>Residual</th>\n",
       "      <td>1860.800000</td>\n",
       "      <td>12.0</td>\n",
       "      <td>NaN</td>\n",
       "      <td>NaN</td>\n",
       "    </tr>\n",
       "  </tbody>\n",
       "</table>\n",
       "</div>"
      ],
      "text/plain": [
       "                    sum_sq    df         F   PR(>F)\n",
       "C(treatments)  3022.933333   2.0  9.747206  0.00306\n",
       "Residual       1860.800000  12.0       NaN      NaN"
      ]
     },
     "execution_count": 42,
     "metadata": {},
     "output_type": "execute_result"
    }
   ],
   "source": [
    "import pandas as pd\n",
    "import scipy.stats as stats\n",
    "import statsmodels.api as sm\n",
    "from statsmodels.formula.api import ols\n",
    "\n",
    "table = pd.DataFrame()\n",
    "table['A']=[51, 45, 33, 45, 67]\n",
    "table['B']=[23, 43, 23, 43, 45]\n",
    "table['C']=[56, 76, 74, 87, 56]\n",
    "\n",
    "\n",
    "# stats f_oneway functions takes the groups as input and returns F and P-value\n",
    "fvalue, pvalue = stats.f_oneway(table['A'], table['B'], table['C'])\n",
    "print(fvalue, pvalue)\n",
    "\n",
    "# reshape the d dataframe suitable for statsmodels package \n",
    "d_melt = pd.melt(table.reset_index(), id_vars=['index'], value_vars=['A', 'B', 'C'])\n",
    "# replace column names\n",
    "d_melt.columns = ['index', 'treatments', 'value']\n",
    "# Ordinary Least Squares (OLS) model\n",
    "model = ols('value ~ C(treatments)', data=d_melt).fit()\n",
    "anova_table = sm.stats.anova_lm(model, typ=2)\n",
    "\n",
    "print(\" \\nAPA writeup\")\n",
    "print(\"F(2, 12)= \"+str(fvalue))\n",
    "if(pvalue <0.05):\n",
    "    print(\"p<0.05\")\n",
    "else:\n",
    "    print(\"p<0.05\")    \n",
    "\n",
    "anova_table"
   ]
  },
  {
   "cell_type": "markdown",
   "metadata": {},
   "source": [
    "**Problem Statement 3:**\n",
    "\n",
    "Calculate F Test for given 10, 20, 30, 40, 50 and 5,10,15, 20, 25.\n",
    "\n",
    "For 10, 20, 30, 40, 50:"
   ]
  },
  {
   "cell_type": "code",
   "execution_count": 8,
   "metadata": {},
   "outputs": [
    {
     "name": "stdout",
     "output_type": "stream",
     "text": [
      "The F-test value is 4.0\n"
     ]
    }
   ],
   "source": [
    "import statistics as stat\n",
    "set1=(10,20,30,40,50)\n",
    "set2=(5,10,15,20,25)\n",
    "#calculating variance for the first set of elements\n",
    "var1 = stat.variance(set1)\n",
    "#calculating variance for the second set of elements\n",
    "var2 = stat.variance(set2)\n",
    "#F-test = var1/var2\n",
    "F = var1/var2\n",
    "print(\"The F-test value is \"+str(F))"
   ]
  }
 ],
 "metadata": {
  "kernelspec": {
   "display_name": "Python 3",
   "language": "python",
   "name": "python3"
  },
  "language_info": {
   "codemirror_mode": {
    "name": "ipython",
    "version": 3
   },
   "file_extension": ".py",
   "mimetype": "text/x-python",
   "name": "python",
   "nbconvert_exporter": "python",
   "pygments_lexer": "ipython3",
   "version": "3.7.1"
  }
 },
 "nbformat": 4,
 "nbformat_minor": 2
}
