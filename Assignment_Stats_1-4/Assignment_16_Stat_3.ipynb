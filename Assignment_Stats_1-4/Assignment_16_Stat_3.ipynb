{
 "cells": [
  {
   "cell_type": "markdown",
   "metadata": {},
   "source": [
    "**Problem Statement 1:**\n",
    "\n",
    "Blood glucose levels for obese patients have a mean of 100 with a standard deviation of 15. A researcher thinks that a diet high in raw cornstarch will have a positive effect on blood glucose levels. A sample of 36 patients who have tried the raw cornstarch diet have a mean glucose level of 108. Test the hypothesis that the raw cornstarch had an effect or not."
   ]
  },
  {
   "cell_type": "code",
   "execution_count": 18,
   "metadata": {},
   "outputs": [
    {
     "name": "stdout",
     "output_type": "stream",
     "text": [
      "Z-value is 3.2\n",
      "Critical value is 1.959963984540054\n",
      "Rejecting the null hypothesis implies that the raw cornstarch had an effect\n"
     ]
    }
   ],
   "source": [
    "import numpy as np \n",
    "import scipy.stats \n",
    "mu,sigma,n,xbar = 100, 15,36, 108\n",
    "\n",
    "#1.Stating H0, H1\n",
    "# H0: mu =100     => Raw cornstarch had no effect\n",
    "# H1: mu !=100    => Raw cornstarch had effect\n",
    "\n",
    "#2.Significance level, alpha = 0.05\n",
    "\n",
    "#3.Calculating z\n",
    "Z=(xbar-mu)/(sigma/np.sqrt(n))\n",
    "print(\"Z-value is \"+str(Z))\n",
    "#4.Calculating Critical Value - Two sided\n",
    "CV= scipy.stats.norm.ppf(0.975)\n",
    "print(\"Critical value is \"+str(CV))\n",
    "#5.Comparing Test statistic with critical value\n",
    "if(CV<Z):\n",
    "    print(\"Rejecting the null hypothesis implies that the raw cornstarch had an effect\")\n",
    "else: \n",
    "    print(\"Accepting the null hypothesis implies that the raw cornstarch had no effect\")\n"
   ]
  },
  {
   "cell_type": "markdown",
   "metadata": {},
   "source": [
    "**Problem Statement 2:**\n",
    "\n",
    "In one state, 52% of the voters are Republicans, and 48% are Democrats. In a second state, 47% of the voters are Republicans, and 53% are Democrats. Suppose a simple random sample of 100 voters are surveyed from each state.\n",
    "\n",
    "What is the probability that the survey will show a greater percentage of Republican voters in the second state than in the first state?"
   ]
  },
  {
   "cell_type": "code",
   "execution_count": 19,
   "metadata": {},
   "outputs": [
    {
     "name": "stdout",
     "output_type": "stream",
     "text": [
      "E(p1-p2) = 0.050000000000000044\n",
      "Standard deviation of the difference is 0.07061869440877536\n",
      "Z value is -0.7080278164104213\n",
      "The probability that the survey will show a greater percentage of Republican voters in the second state than in the first state is 0.23946399182220013\n"
     ]
    }
   ],
   "source": [
    "#P1 = the proportion of Republican voters in the first state\n",
    "P1=0.52\n",
    "#P2 = the proportion of Republican voters in the second state\n",
    "P2=0.47\n",
    "#The mean of the difference in sample proportions: \n",
    "mudiff = P1 - P2\n",
    "print(\"E(p1-p2) = \"+ str(mudiff))\n",
    "#Standard deviation of the difference\n",
    "#sigma = sqrt{ [ P1(1 - P1) / n1 ] + [ P2(1 - P2) / n2 ] }\n",
    "sigmadiff = np.sqrt( ((0.52)*(0.48) / 100 ) + ( (0.47)*(0.53) / 100 ))\n",
    "print(\"Standard deviation of the difference is \"+str(sigmadiff))\n",
    "x=0\n",
    "Z= (x-mudiff)/sigmadiff\n",
    "print(\"Z value is \"+str(Z))\n",
    "prob = scipy.stats.norm.cdf(Z)\n",
    "print(\"The probability that the survey will show a greater percentage of Republican voters in the second state than in the first state is \"+str(prob))"
   ]
  },
  {
   "cell_type": "markdown",
   "metadata": {},
   "source": [
    "**Problem Statement 3:**\n",
    "    \n",
    "You take the SAT and score 1100. The mean score for the SAT is 1026 and the standard deviation is 209. How well did you score on the test compared to the average test taker?"
   ]
  },
  {
   "cell_type": "code",
   "execution_count": 20,
   "metadata": {},
   "outputs": [
    {
     "name": "stdout",
     "output_type": "stream",
     "text": [
      "Z value is 0.35406698564593303\n",
      "The SAT score compared to average test taker is 63.835565843531896 %\n"
     ]
    }
   ],
   "source": [
    "import numpy as np \n",
    "import scipy.stats \n",
    "x,mu,sigma = 1100,1026,209\n",
    "Z= (x-mu)/sigma\n",
    "print(\"Z value is \"+str(Z))\n",
    "percent = 100*scipy.stats.norm.cdf(Z)\n",
    "print(\"The SAT score compared to average test taker is \"+str(percent)+\" %\")"
   ]
  }
 ],
 "metadata": {
  "kernelspec": {
   "display_name": "Python 3",
   "language": "python",
   "name": "python3"
  },
  "language_info": {
   "codemirror_mode": {
    "name": "ipython",
    "version": 3
   },
   "file_extension": ".py",
   "mimetype": "text/x-python",
   "name": "python",
   "nbconvert_exporter": "python",
   "pygments_lexer": "ipython3",
   "version": "3.7.1"
  }
 },
 "nbformat": 4,
 "nbformat_minor": 2
}
